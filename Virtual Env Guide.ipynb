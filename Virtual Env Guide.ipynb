{
 "cells": [
  {
   "cell_type": "code",
   "execution_count": null,
   "metadata": {},
   "outputs": [],
   "source": [
    "# These commands are for Mac/Linux OS. "
   ]
  },
  {
   "cell_type": "code",
   "execution_count": null,
   "metadata": {},
   "outputs": [],
   "source": [
    "# Always create a new directory for your project. \n",
    "\n",
    "# Code for making a new directory is as follows -->\n",
    "\n",
    "mkdir name_of_your_project\n",
    "\n",
    "#'mkdir' creates a new directory. "
   ]
  },
  {
   "cell_type": "code",
   "execution_count": null,
   "metadata": {},
   "outputs": [],
   "source": [
    "# Now we will install venv (Virtual Environment Module that comes with the standard pythin library)\n",
    "\n",
    "# Code for installing venv goes as follows -->\n",
    "\n",
    "python3 -m venv name_of_your_project/venv\n",
    "\n",
    "# venv at the end specifies the name of the virtual environment that you are creating. "
   ]
  },
  {
   "cell_type": "code",
   "execution_count": null,
   "metadata": {},
   "outputs": [],
   "source": [
    "# Now we will activate the vitual environment. \n",
    "\n",
    "#The code to activate the venv goes as follow -->\n",
    "\n",
    "source name_of_your_project/venv/bin/activate"
   ]
  },
  {
   "cell_type": "code",
   "execution_count": null,
   "metadata": {},
   "outputs": [],
   "source": [
    "# Installing packages in the venv\n",
    "\n",
    "pip install name_of_the_package"
   ]
  },
  {
   "cell_type": "code",
   "execution_count": null,
   "metadata": {},
   "outputs": [],
   "source": [
    "# When you have installed all the packages you need, you can put these packages in a 'requirements.txt' file,  to use install these packages in a different venv. \n",
    "\n",
    "# The code goes as follows -->\n",
    "\n",
    "pip freeze \n",
    "\n",
    "# Press enter\n",
    "\n",
    "pip freeze > requirements.txt\n",
    "\n",
    "# Press enter\n",
    "\n",
    "# The code to see the contents of the 'requirements.txt' goes as follows --> \n",
    "\n",
    "cat requirements.txt\n",
    "\n",
    "# Code to use the 'requirements.txt' file in another venv goes as follows -->\n",
    "\n",
    "pip install -r requirements.txt"
   ]
  },
  {
   "cell_type": "code",
   "execution_count": null,
   "metadata": {},
   "outputs": [],
   "source": [
    "# Code to create a script in your project folder goes as follows -->\n",
    "\n",
    "touch script.py\n",
    "\n",
    "# This code created the script in the folder and not in the venv. "
   ]
  },
  {
   "cell_type": "code",
   "execution_count": null,
   "metadata": {},
   "outputs": [],
   "source": [
    "# Code to deactivate the venv goes as follows -->\n",
    "\n",
    "deactivate"
   ]
  },
  {
   "cell_type": "code",
   "execution_count": null,
   "metadata": {},
   "outputs": [],
   "source": [
    "# The main reason to create venv is to retsrict the packages installed in the venv to the venv and not affect the packages in the global installation. \n",
    "\n",
    "# If you want to see the packages installed in your local directory type while in venv --> \n",
    "\n",
    "pip list --local"
   ]
  },
  {
   "cell_type": "code",
   "execution_count": null,
   "metadata": {},
   "outputs": [],
   "source": [
    "# Code to delete a venv -->\n",
    "\n",
    "rm -rf venv/"
   ]
  },
  {
   "cell_type": "code",
   "execution_count": null,
   "metadata": {},
   "outputs": [],
   "source": [
    "# If you want to create a venv with the packages in the global installation of python, type -->\n",
    "\n",
    "python3 -m venv name_of_your_project/venv --systems-site-packages\n",
    "\n",
    "# And then activate the venv as I have shown in the above cells. \n",
    "\n",
    "# Keep in mind that the packages that you have installed using -systems-site-packages will not affect the packages in the global python installation of packages."
   ]
  }
 ],
 "metadata": {
  "kernelspec": {
   "display_name": "Python 3",
   "language": "python",
   "name": "python3"
  },
  "language_info": {
   "codemirror_mode": {
    "name": "ipython",
    "version": 3
   },
   "file_extension": ".py",
   "mimetype": "text/x-python",
   "name": "python",
   "nbconvert_exporter": "python",
   "pygments_lexer": "ipython3",
   "version": "3.8.1"
  }
 },
 "nbformat": 4,
 "nbformat_minor": 4
}
